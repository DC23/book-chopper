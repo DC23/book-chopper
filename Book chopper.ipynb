{
 "cells": [
  {
   "cell_type": "markdown",
   "id": "fc42414c-931c-41a0-8de5-9115157ffe6a",
   "metadata": {},
   "source": [
    "## Imports"
   ]
  },
  {
   "cell_type": "code",
   "execution_count": 44,
   "id": "d2693faa-b08e-4949-8fe5-574009f63b20",
   "metadata": {},
   "outputs": [],
   "source": [
    "from glob import glob\n",
    "from openpyxl import load_workbook\n",
    "from random import randint"
   ]
  },
  {
   "cell_type": "markdown",
   "id": "48f7ec49-9a18-442a-81a6-5790a1c70bf3",
   "metadata": {},
   "source": [
    "## Configuration"
   ]
  },
  {
   "cell_type": "code",
   "execution_count": 45,
   "id": "7cca4a46-a7ac-448a-a423-8be9fe854200",
   "metadata": {},
   "outputs": [],
   "source": [
    "#mode = \"lines\"\n",
    "#mode = \"phrases\"\n",
    "mode = \"sentences\""
   ]
  },
  {
   "cell_type": "code",
   "execution_count": 46,
   "id": "bf4f5f2e-2e85-47ff-9e51-287ca3dd0929",
   "metadata": {},
   "outputs": [],
   "source": [
    "if mode == \"phrases\":\n",
    "    match_lines = False\n",
    "    word_split_token = \" \"\n",
    "    characters_to_replace_with_word_split_token = \",!?\\n\""
   ]
  },
  {
   "cell_type": "code",
   "execution_count": 47,
   "id": "942910f5-ce67-42c3-9e87-6db902bec8c3",
   "metadata": {},
   "outputs": [],
   "source": [
    "if mode == \"sentences\":\n",
    "    match_lines = False\n",
    "    word_split_token = \".\"\n",
    "    characters_to_replace_with_word_split_token = \"\\n\""
   ]
  },
  {
   "cell_type": "code",
   "execution_count": 48,
   "id": "3f4c8e8f-9ef3-4d37-81a4-078ad339dc7e",
   "metadata": {},
   "outputs": [],
   "source": [
    "if mode == \"lines\":\n",
    "    match_lines = True\n",
    "    word_split_token = \".\"\n",
    "    characters_to_replace_with_word_split_token = \"\\n\""
   ]
  },
  {
   "cell_type": "markdown",
   "id": "a0dff7f1-23d5-48de-a7a1-0ffde5ee9bfc",
   "metadata": {},
   "source": [
    "### Other Config"
   ]
  },
  {
   "cell_type": "code",
   "execution_count": 49,
   "id": "555182e9-190a-4192-b958-13e6ec11cf37",
   "metadata": {},
   "outputs": [],
   "source": [
    "min_phrase_length = 8"
   ]
  },
  {
   "cell_type": "markdown",
   "id": "60cda46d-1a95-46c5-88e9-fb4e853b27e0",
   "metadata": {},
   "source": [
    "If you want to specify particular files, do so here. If no files are defined, then all matches to \"books/\\*.txt\" will be used."
   ]
  },
  {
   "cell_type": "markdown",
   "id": "20007e15",
   "metadata": {},
   "source": [
    "input_files = [\"books/The Illustrated Complete Works - H. P. Lovecraft.txt\"]"
   ]
  },
  {
   "cell_type": "markdown",
   "id": "66d9fa65-f93d-40b2-b1c0-8f0d5ced8e04",
   "metadata": {},
   "source": [
    "input_files = [\n",
    "    \"books/conan/The Hour of the Dragon - Robert E. Howard.txt\",\n",
    "]"
   ]
  },
  {
   "cell_type": "markdown",
   "id": "fa8a10f6-c293-4b54-a6e5-5c71fc2d6443",
   "metadata": {},
   "source": [
    "input_files = glob(\"books/conan/*.txt\")"
   ]
  },
  {
   "cell_type": "code",
   "execution_count": 50,
   "id": "227bde95",
   "metadata": {},
   "outputs": [],
   "source": [
    "input_files = glob(\"books/occult horror/*.txt\")\n",
    "output_file_name = \"occult_horror_sentences.xlsx\""
   ]
  },
  {
   "cell_type": "code",
   "execution_count": 51,
   "id": "065359a1-6037-4fde-b968-127303cb808e",
   "metadata": {},
   "outputs": [],
   "source": [
    "if not input_files:\n",
    "    input_files = glob(\"books/*.txt\")"
   ]
  },
  {
   "cell_type": "markdown",
   "id": "05eb7301",
   "metadata": {},
   "source": [
    "output_file_name = \"lovecraft.xlsx\""
   ]
  },
  {
   "cell_type": "code",
   "execution_count": 52,
   "id": "94b2e00c",
   "metadata": {},
   "outputs": [
    {
     "data": {
      "text/plain": [
       "['books/occult horror\\\\Carmilla - Joseph Sheridan le Fanu.txt',\n",
       " 'books/occult horror\\\\Dracula - Bram Stoker.txt',\n",
       " 'books/occult horror\\\\Ghost Story.txt',\n",
       " 'books/occult horror\\\\Psychic Self-Defense - Dion Fortune.txt',\n",
       " 'books/occult horror\\\\The Night Season.txt',\n",
       " 'books/occult horror\\\\The Secrets of Dr. Taverner - Dion Fortune.txt']"
      ]
     },
     "execution_count": 52,
     "metadata": {},
     "output_type": "execute_result"
    }
   ],
   "source": [
    "input_files"
   ]
  },
  {
   "cell_type": "markdown",
   "id": "6b32c79c-eb93-46e0-b1cc-3488b10c0d79",
   "metadata": {},
   "source": [
    "## Book Chopping"
   ]
  },
  {
   "cell_type": "code",
   "execution_count": 53,
   "id": "85558180-9f4d-4e70-a85a-ed3331853806",
   "metadata": {},
   "outputs": [],
   "source": [
    "def num_words(token, a=2, b=7):\n",
    "    if token == \".\":\n",
    "        return 1\n",
    "    else:\n",
    "        return randint(a, b) + randint(a, b)"
   ]
  },
  {
   "cell_type": "code",
   "execution_count": 54,
   "id": "c90849d4-6d64-4e0f-94d7-0702a61b4961",
   "metadata": {},
   "outputs": [],
   "source": [
    "def clean(phrase: str):\n",
    "    phrase = phrase.replace(\"â€\", \",\")\n",
    "    for char in characters_to_replace_with_word_split_token:\n",
    "        phrase = phrase.replace(char, word_split_token)\n",
    "    return phrase.strip()"
   ]
  },
  {
   "cell_type": "code",
   "execution_count": 55,
   "id": "2328d9e4-ee08-4179-907b-7b18be0d20c3",
   "metadata": {},
   "outputs": [],
   "source": [
    "def get_words(input_files:list, word_split_token:str):\n",
    "    words = []\n",
    "    for book_file in input_files:\n",
    "        with open(book_file, encoding=\"utf-8\") as book:\n",
    "            words.extend(clean(book.read()).split(word_split_token))\n",
    "    return words"
   ]
  },
  {
   "cell_type": "code",
   "execution_count": 56,
   "id": "f9cb6ce6-4625-42dd-b422-6dc6dc161d84",
   "metadata": {},
   "outputs": [],
   "source": [
    "def get_phrases_random(input_files, word_split_token):\n",
    "    phrases = []\n",
    "    words = get_words(input_files, word_split_token)\n",
    "    while True:\n",
    "        try:\n",
    "            n = num_words(word_split_token)\n",
    "            phrase = [words.pop(0) for _ in range(n)]\n",
    "        except IndexError:\n",
    "            phrase = words\n",
    "            break\n",
    "        finally:\n",
    "            phrase = \" \".join(phrase).strip()\n",
    "            if len(phrase) > min_phrase_length:\n",
    "                phrases.append(phrase)\n",
    "    return phrases"
   ]
  },
  {
   "cell_type": "code",
   "execution_count": 57,
   "id": "e085a21e-317b-4ece-8381-edb9c1385836",
   "metadata": {},
   "outputs": [],
   "source": [
    "def get_phrases_lines(input_files):\n",
    "    lines = []\n",
    "    for book_file in input_files:\n",
    "        with open(book_file, encoding=\"utf-8\") as book:\n",
    "            for line in book:\n",
    "                line = clean(line)\n",
    "                if len(line) > min_phrase_length:\n",
    "                    lines.append(line)\n",
    "    return lines"
   ]
  },
  {
   "cell_type": "code",
   "execution_count": 58,
   "id": "ad32b3b2-25dc-4d5a-ae76-a03df6516fbf",
   "metadata": {},
   "outputs": [],
   "source": [
    "def get_phrases(input_files, match_lines=False, word_split_token=\" \"):\n",
    "    if match_lines:\n",
    "        return get_phrases_lines(input_files)\n",
    "    else:\n",
    "        return get_phrases_random(input_files, word_split_token)"
   ]
  },
  {
   "cell_type": "code",
   "execution_count": 59,
   "id": "562dc9d3-ce79-4e48-ba85-d3a1d99f2a01",
   "metadata": {},
   "outputs": [],
   "source": [
    "phrases = get_phrases(input_files, match_lines, word_split_token)"
   ]
  },
  {
   "cell_type": "code",
   "execution_count": 60,
   "id": "ee29b1f6-3748-4799-ac71-d280b38783a7",
   "metadata": {},
   "outputs": [
    {
     "data": {
      "text/plain": [
       "\"I know them steps, 'avin' 'ad to carry the boxes up with three loafers what come round to earn a copper\""
      ]
     },
     "execution_count": 60,
     "metadata": {},
     "output_type": "execute_result"
    }
   ],
   "source": [
    "phrases[7639]"
   ]
  },
  {
   "cell_type": "markdown",
   "id": "ca77cffe-236b-4791-b18f-c44042b5c7e4",
   "metadata": {},
   "source": [
    "## File Writing"
   ]
  },
  {
   "cell_type": "code",
   "execution_count": 62,
   "id": "f70a066f-6c37-4501-8902-e39ee0a6126f",
   "metadata": {},
   "outputs": [],
   "source": [
    "wb = load_workbook(filename=\"template.xlsx\")\n",
    "phrases_sheet = wb[\"phrases\"]\n",
    "for i, phrase in enumerate(phrases):\n",
    "    phrases_sheet.append((i, phrase))\n",
    "wb.save(output_file_name)"
   ]
  }
 ],
 "metadata": {
  "kernelspec": {
   "display_name": "Python 3 (ipykernel)",
   "language": "python",
   "name": "python3"
  },
  "language_info": {
   "codemirror_mode": {
    "name": "ipython",
    "version": 3
   },
   "file_extension": ".py",
   "mimetype": "text/x-python",
   "name": "python",
   "nbconvert_exporter": "python",
   "pygments_lexer": "ipython3",
   "version": "3.9.12"
  }
 },
 "nbformat": 4,
 "nbformat_minor": 5
}
