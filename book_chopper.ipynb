{
  "cells": [
    {
      "cell_type": "markdown",
      "id": "fc42414c-931c-41a0-8de5-9115157ffe6a",
      "metadata": {
        "id": "fc42414c-931c-41a0-8de5-9115157ffe6a"
      },
      "source": [
        "## Imports"
      ]
    },
    {
      "cell_type": "code",
      "execution_count": null,
      "id": "d2693faa-b08e-4949-8fe5-574009f63b20",
      "metadata": {
        "id": "d2693faa-b08e-4949-8fe5-574009f63b20"
      },
      "outputs": [],
      "source": [
        "from glob import glob\n",
        "from openpyxl import load_workbook\n",
        "from random import randint\n",
        "from google.colab import files"
      ]
    },
    {
      "cell_type": "markdown",
      "id": "48f7ec49-9a18-442a-81a6-5790a1c70bf3",
      "metadata": {
        "id": "48f7ec49-9a18-442a-81a6-5790a1c70bf3"
      },
      "source": [
        "## Configuration"
      ]
    },
    {
      "cell_type": "code",
      "execution_count": null,
      "id": "7cca4a46-a7ac-448a-a423-8be9fe854200",
      "metadata": {
        "id": "7cca4a46-a7ac-448a-a423-8be9fe854200"
      },
      "outputs": [],
      "source": [
        "#mode = \"lines\"\n",
        "#mode = \"phrases\"\n",
        "mode = \"sentences\""
      ]
    },
    {
      "cell_type": "code",
      "execution_count": null,
      "id": "bf4f5f2e-2e85-47ff-9e51-287ca3dd0929",
      "metadata": {
        "id": "bf4f5f2e-2e85-47ff-9e51-287ca3dd0929"
      },
      "outputs": [],
      "source": [
        "if mode == \"phrases\":\n",
        "  match_lines = False\n",
        "  word_split_token = \" \"\n",
        "  characters_to_replace_with_word_split_token = \",!?\\n\""
      ]
    },
    {
      "cell_type": "code",
      "execution_count": null,
      "id": "942910f5-ce67-42c3-9e87-6db902bec8c3",
      "metadata": {
        "id": "942910f5-ce67-42c3-9e87-6db902bec8c3"
      },
      "outputs": [],
      "source": [
        "if mode == \"sentences\":\n",
        "  match_lines = False\n",
        "  word_split_token = \".\"\n",
        "  characters_to_replace_with_word_split_token = \"\\n\""
      ]
    },
    {
      "cell_type": "code",
      "execution_count": null,
      "id": "3f4c8e8f-9ef3-4d37-81a4-078ad339dc7e",
      "metadata": {
        "id": "3f4c8e8f-9ef3-4d37-81a4-078ad339dc7e"
      },
      "outputs": [],
      "source": [
        "if mode == \"lines\":\n",
        "  match_lines = True\n",
        "  word_split_token = \".\"\n",
        "  characters_to_replace_with_word_split_token = \"\\n\""
      ]
    },
    {
      "cell_type": "code",
      "execution_count": null,
      "id": "555182e9-190a-4192-b958-13e6ec11cf37",
      "metadata": {
        "id": "555182e9-190a-4192-b958-13e6ec11cf37"
      },
      "outputs": [],
      "source": [
        "min_phrase_length = 8"
      ]
    },
    {
      "cell_type": "markdown",
      "source": [
        "# File Upload"
      ],
      "metadata": {
        "id": "rZPcoR7Zd38h"
      },
      "id": "rZPcoR7Zd38h"
    },
    {
      "cell_type": "code",
      "execution_count": null,
      "id": "227bde95",
      "metadata": {
        "id": "227bde95"
      },
      "outputs": [],
      "source": [
        "input_files = files.upload()"
      ]
    },
    {
      "cell_type": "code",
      "execution_count": null,
      "id": "94b2e00c",
      "metadata": {
        "id": "94b2e00c"
      },
      "outputs": [],
      "source": [
        "input_files.keys()"
      ]
    },
    {
      "cell_type": "markdown",
      "id": "6b32c79c-eb93-46e0-b1cc-3488b10c0d79",
      "metadata": {
        "id": "6b32c79c-eb93-46e0-b1cc-3488b10c0d79"
      },
      "source": [
        "## Book Chopping"
      ]
    },
    {
      "cell_type": "code",
      "execution_count": null,
      "id": "85558180-9f4d-4e70-a85a-ed3331853806",
      "metadata": {
        "id": "85558180-9f4d-4e70-a85a-ed3331853806"
      },
      "outputs": [],
      "source": [
        "def num_words(token, a=2, b=7):\n",
        "  if token == \".\":\n",
        "    return 1\n",
        "  else:\n",
        "    return randint(a, b) + randint(a, b)"
      ]
    },
    {
      "cell_type": "code",
      "execution_count": null,
      "id": "c90849d4-6d64-4e0f-94d7-0702a61b4961",
      "metadata": {
        "id": "c90849d4-6d64-4e0f-94d7-0702a61b4961"
      },
      "outputs": [],
      "source": [
        "def clean(phrase: str):\n",
        "  phrase = phrase.replace(\"â€\", \",\")\n",
        "  for char in characters_to_replace_with_word_split_token:\n",
        "    phrase = phrase.replace(char, word_split_token)\n",
        "  return phrase.strip()"
      ]
    },
    {
      "cell_type": "code",
      "execution_count": null,
      "id": "2328d9e4-ee08-4179-907b-7b18be0d20c3",
      "metadata": {
        "id": "2328d9e4-ee08-4179-907b-7b18be0d20c3"
      },
      "outputs": [],
      "source": [
        "def get_words(input_files:list, word_split_token:str):\n",
        "  words = []\n",
        "  for book in input_files.values():\n",
        "    words.extend(clean(str(book)).split(word_split_token))\n",
        "  return words"
      ]
    },
    {
      "cell_type": "code",
      "execution_count": null,
      "id": "f9cb6ce6-4625-42dd-b422-6dc6dc161d84",
      "metadata": {
        "id": "f9cb6ce6-4625-42dd-b422-6dc6dc161d84"
      },
      "outputs": [],
      "source": [
        "def get_phrases_random(input_files, word_split_token):\n",
        "  phrases = []\n",
        "  words = get_words(input_files, word_split_token)\n",
        "  while True:\n",
        "    try:\n",
        "      n = num_words(word_split_token)\n",
        "      phrase = [words.pop(0) for _ in range(n)]\n",
        "    except IndexError:\n",
        "      phrase = words\n",
        "      break\n",
        "    finally:\n",
        "      phrase = \" \".join(phrase).strip()\n",
        "      if len(phrase) > min_phrase_length:\n",
        "        phrases.append(phrase)\n",
        "  return phrases"
      ]
    },
    {
      "cell_type": "code",
      "execution_count": null,
      "id": "e085a21e-317b-4ece-8381-edb9c1385836",
      "metadata": {
        "id": "e085a21e-317b-4ece-8381-edb9c1385836"
      },
      "outputs": [],
      "source": [
        "def get_phrases_lines(input_files):\n",
        "  lines = []\n",
        "  for book in input_files.values():\n",
        "    book = str(book)\n",
        "    for line in book:\n",
        "      line = clean(line)\n",
        "      if len(line) > min_phrase_length:\n",
        "        lines.append(line)\n",
        "  return lines"
      ]
    },
    {
      "cell_type": "code",
      "execution_count": null,
      "id": "ad32b3b2-25dc-4d5a-ae76-a03df6516fbf",
      "metadata": {
        "id": "ad32b3b2-25dc-4d5a-ae76-a03df6516fbf"
      },
      "outputs": [],
      "source": [
        "def get_phrases(input_files, match_lines=False, word_split_token=\" \"):\n",
        "  if match_lines:\n",
        "    return get_phrases_lines(input_files)\n",
        "  else:\n",
        "    return get_phrases_random(input_files, word_split_token)"
      ]
    },
    {
      "cell_type": "code",
      "execution_count": null,
      "id": "562dc9d3-ce79-4e48-ba85-d3a1d99f2a01",
      "metadata": {
        "id": "562dc9d3-ce79-4e48-ba85-d3a1d99f2a01"
      },
      "outputs": [],
      "source": [
        "phrases = get_phrases(input_files, match_lines, word_split_token)"
      ]
    },
    {
      "cell_type": "code",
      "execution_count": null,
      "id": "ee29b1f6-3748-4799-ac71-d280b38783a7",
      "metadata": {
        "id": "ee29b1f6-3748-4799-ac71-d280b38783a7"
      },
      "outputs": [],
      "source": [
        "phrases[999]"
      ]
    },
    {
      "cell_type": "markdown",
      "id": "ca77cffe-236b-4791-b18f-c44042b5c7e4",
      "metadata": {
        "id": "ca77cffe-236b-4791-b18f-c44042b5c7e4"
      },
      "source": [
        "## File Writing"
      ]
    },
    {
      "cell_type": "markdown",
      "source": [
        "wb = load_workbook(filename=\"template.xlsx\")\n",
        "phrases_sheet = wb[\"phrases\"]\n",
        "for i, phrase in enumerate(phrases):\n",
        "    phrases_sheet.append((i, phrase))\n",
        "wb.save(output_file_name)"
      ],
      "metadata": {
        "id": "f70a066f-6c37-4501-8902-e39ee0a6126f"
      },
      "id": "f70a066f-6c37-4501-8902-e39ee0a6126f"
    }
  ],
  "metadata": {
    "kernelspec": {
      "display_name": "Python 3 (ipykernel)",
      "language": "python",
      "name": "python3"
    },
    "language_info": {
      "codemirror_mode": {
        "name": "ipython",
        "version": 3
      },
      "file_extension": ".py",
      "mimetype": "text/x-python",
      "name": "python",
      "nbconvert_exporter": "python",
      "pygments_lexer": "ipython3",
      "version": "3.9.12"
    },
    "colab": {
      "name": "book_chopper.ipynb",
      "provenance": []
    }
  },
  "nbformat": 4,
  "nbformat_minor": 5
}