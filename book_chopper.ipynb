{
  "cells": [
    {
      "cell_type": "markdown",
      "source": [
        "# Using this Notebook\n",
        "\n",
        "In the **User Configuration** section, you can set the file name for the spreadsheet. You can also select the chopping mode. Options are:\n",
        "\n",
        "*   sentences (default): Attempts to break the text into whole sentences. Tends to produce coherent text but can be confused by unusual characters and line breaks.\n",
        "*   line: breaks the input by lines without regard to punctuation or content.\n",
        "*   phrases: breaks the input into phrases of `min_words` to `max_words` in length.\n",
        "\n",
        "Once you have set the configuration options, run the notebook by selecting \"Runtime - Run All\" from the notebook menu.\n",
        "\n",
        "In the **File Upload** section, you will now be able to click the Choose Files button to upload your files. After processing is complete (different options take different amounts of time), the oracle file should download automatically.\n",
        "\n"
      ],
      "metadata": {
        "id": "WY-kd4fMZzGs"
      },
      "id": "WY-kd4fMZzGs"
    },
    {
      "cell_type": "markdown",
      "id": "fc42414c-931c-41a0-8de5-9115157ffe6a",
      "metadata": {
        "id": "fc42414c-931c-41a0-8de5-9115157ffe6a"
      },
      "source": [
        "# Imports"
      ]
    },
    {
      "cell_type": "code",
      "execution_count": 1,
      "id": "d2693faa-b08e-4949-8fe5-574009f63b20",
      "metadata": {
        "id": "d2693faa-b08e-4949-8fe5-574009f63b20"
      },
      "outputs": [],
      "source": [
        "from glob import glob\n",
        "from openpyxl import Workbook\n",
        "from openpyxl.styles import Alignment, Font, Color, PatternFill\n",
        "from random import randint\n",
        "from google.colab import files"
      ]
    },
    {
      "cell_type": "markdown",
      "source": [
        "# User Configuration"
      ],
      "metadata": {
        "id": "EYCjq8hgbiZL"
      },
      "id": "EYCjq8hgbiZL"
    },
    {
      "cell_type": "code",
      "execution_count": 2,
      "id": "555182e9-190a-4192-b958-13e6ec11cf37",
      "metadata": {
        "id": "555182e9-190a-4192-b958-13e6ec11cf37",
        "cellView": "form"
      },
      "outputs": [],
      "source": [
        "# {run: \"auto\"}\n",
        "\n",
        "output_file_name = \"oracle\" #@param {type:\"string\"}\n",
        "mode = \"phrases\" #@param [\"line\", \"phrases\", \"sentences\"] {type:\"string\"}\n",
        "min_words = 2 #@param {type:\"integer\"}\n",
        "max_words = 7 #@param {type:\"integer\"}"
      ]
    },
    {
      "cell_type": "markdown",
      "source": [
        "# File Upload"
      ],
      "metadata": {
        "id": "rZPcoR7Zd38h"
      },
      "id": "rZPcoR7Zd38h"
    },
    {
      "cell_type": "code",
      "execution_count": 3,
      "id": "227bde95",
      "metadata": {
        "id": "227bde95",
        "outputId": "5933a759-47d9-439a-82bc-7e5b69793270",
        "colab": {
          "resources": {
            "http://localhost:8080/nbextensions/google.colab/files.js": {
              "data": "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",
              "ok": true,
              "headers": [
                [
                  "content-type",
                  "application/javascript"
                ]
              ],
              "status": 200,
              "status_text": ""
            }
          },
          "base_uri": "https://localhost:8080/",
          "height": 73
        }
      },
      "outputs": [
        {
          "output_type": "display_data",
          "data": {
            "text/plain": [
              "<IPython.core.display.HTML object>"
            ],
            "text/html": [
              "\n",
              "     <input type=\"file\" id=\"files-02952c6b-7a63-45ab-b387-2f1263db5ab6\" name=\"files[]\" multiple disabled\n",
              "        style=\"border:none\" />\n",
              "     <output id=\"result-02952c6b-7a63-45ab-b387-2f1263db5ab6\">\n",
              "      Upload widget is only available when the cell has been executed in the\n",
              "      current browser session. Please rerun this cell to enable.\n",
              "      </output>\n",
              "      <script src=\"/nbextensions/google.colab/files.js\"></script> "
            ]
          },
          "metadata": {}
        },
        {
          "output_type": "stream",
          "name": "stdout",
          "text": [
            "Saving Dracula - Bram Stoker.txt to Dracula - Bram Stoker (1).txt\n"
          ]
        }
      ],
      "source": [
        "input_files = files.upload()"
      ]
    },
    {
      "cell_type": "markdown",
      "source": [
        "# Implementation"
      ],
      "metadata": {
        "id": "1uWX1d3jZZEX"
      },
      "id": "1uWX1d3jZZEX"
    },
    {
      "cell_type": "code",
      "execution_count": 4,
      "id": "bf4f5f2e-2e85-47ff-9e51-287ca3dd0929",
      "metadata": {
        "id": "bf4f5f2e-2e85-47ff-9e51-287ca3dd0929"
      },
      "outputs": [],
      "source": [
        "if mode == \"phrases\":\n",
        "  match_lines = False\n",
        "  word_split_token = \" \"\n",
        "  characters_to_replace_with_word_split_token = \",!?\\n\\r\\\\\""
      ]
    },
    {
      "cell_type": "code",
      "execution_count": 5,
      "id": "942910f5-ce67-42c3-9e87-6db902bec8c3",
      "metadata": {
        "id": "942910f5-ce67-42c3-9e87-6db902bec8c3"
      },
      "outputs": [],
      "source": [
        "if mode == \"sentences\":\n",
        "  match_lines = False\n",
        "  word_split_token = \".\"\n",
        "  characters_to_replace_with_word_split_token = \"\\r\\n\\\\\""
      ]
    },
    {
      "cell_type": "code",
      "execution_count": 6,
      "id": "3f4c8e8f-9ef3-4d37-81a4-078ad339dc7e",
      "metadata": {
        "id": "3f4c8e8f-9ef3-4d37-81a4-078ad339dc7e"
      },
      "outputs": [],
      "source": [
        "if mode == \"lines\":\n",
        "  match_lines = True\n",
        "  word_split_token = \".\"\n",
        "  characters_to_replace_with_word_split_token = \"\\n\\r\\\\\""
      ]
    },
    {
      "cell_type": "code",
      "source": [
        "min_phrase_length = 16\n",
        "output_file_name += \".xlsx\"\n",
        "\n",
        "if min_words < 2: \n",
        "  min_words = 2\n",
        "if max_words < min_words:\n",
        "  max_words = min_words"
      ],
      "metadata": {
        "id": "_oNJwf4FX4FR"
      },
      "id": "_oNJwf4FX4FR",
      "execution_count": 7,
      "outputs": []
    },
    {
      "cell_type": "code",
      "execution_count": 8,
      "id": "85558180-9f4d-4e70-a85a-ed3331853806",
      "metadata": {
        "id": "85558180-9f4d-4e70-a85a-ed3331853806"
      },
      "outputs": [],
      "source": [
        "def num_words(token, a=min_words, b=max_words):\n",
        "  if token == \".\":\n",
        "    return 1\n",
        "  else:\n",
        "    return randint(a, b) + randint(a, b)"
      ]
    },
    {
      "cell_type": "code",
      "execution_count": 9,
      "id": "c90849d4-6d64-4e0f-94d7-0702a61b4961",
      "metadata": {
        "id": "c90849d4-6d64-4e0f-94d7-0702a61b4961"
      },
      "outputs": [],
      "source": [
        "def clean(phrase: str):\n",
        "  phrase = phrase.replace(\"â€\", \",\")\n",
        "  for char in characters_to_replace_with_word_split_token:\n",
        "    phrase = phrase.replace(char, word_split_token)\n",
        "  return phrase.strip()"
      ]
    },
    {
      "cell_type": "code",
      "execution_count": 10,
      "id": "2328d9e4-ee08-4179-907b-7b18be0d20c3",
      "metadata": {
        "id": "2328d9e4-ee08-4179-907b-7b18be0d20c3"
      },
      "outputs": [],
      "source": [
        "def get_words(input_files:list, word_split_token:str):\n",
        "  words = []\n",
        "  for book in input_files.values():\n",
        "    words.extend(clean(book.decode()).split(word_split_token))\n",
        "  return words"
      ]
    },
    {
      "cell_type": "code",
      "execution_count": 11,
      "id": "f9cb6ce6-4625-42dd-b422-6dc6dc161d84",
      "metadata": {
        "id": "f9cb6ce6-4625-42dd-b422-6dc6dc161d84"
      },
      "outputs": [],
      "source": [
        "def get_phrases_random(input_files, word_split_token):\n",
        "  phrases = []\n",
        "  words = get_words(input_files, word_split_token)\n",
        "  while True:\n",
        "    try:\n",
        "      n = num_words(word_split_token)\n",
        "      phrase = [words.pop(0) for _ in range(n)]\n",
        "    except IndexError:\n",
        "      phrase = words\n",
        "      break\n",
        "    finally:\n",
        "      phrase = \" \".join(phrase).strip()\n",
        "      if len(phrase) >= min_phrase_length:\n",
        "        phrases.append(phrase)\n",
        "  return phrases"
      ]
    },
    {
      "cell_type": "code",
      "execution_count": 12,
      "id": "e085a21e-317b-4ece-8381-edb9c1385836",
      "metadata": {
        "id": "e085a21e-317b-4ece-8381-edb9c1385836"
      },
      "outputs": [],
      "source": [
        "def get_phrases_lines(input_files):\n",
        "  lines = []\n",
        "  for book in input_files.values():\n",
        "    book = book.decode()\n",
        "    for line in book:\n",
        "      line = clean(line)\n",
        "      if len(line) >= min_phrase_length:\n",
        "        lines.append(line)\n",
        "  return lines"
      ]
    },
    {
      "cell_type": "code",
      "execution_count": 13,
      "id": "ad32b3b2-25dc-4d5a-ae76-a03df6516fbf",
      "metadata": {
        "id": "ad32b3b2-25dc-4d5a-ae76-a03df6516fbf"
      },
      "outputs": [],
      "source": [
        "def get_phrases(input_files, match_lines=False, word_split_token=\" \"):\n",
        "  if match_lines:\n",
        "    return get_phrases_lines(input_files)\n",
        "  else:\n",
        "    return get_phrases_random(input_files, word_split_token)"
      ]
    },
    {
      "cell_type": "code",
      "execution_count": 14,
      "id": "562dc9d3-ce79-4e48-ba85-d3a1d99f2a01",
      "metadata": {
        "id": "562dc9d3-ce79-4e48-ba85-d3a1d99f2a01"
      },
      "outputs": [],
      "source": [
        "phrases = get_phrases(input_files, match_lines, word_split_token)"
      ]
    },
    {
      "cell_type": "markdown",
      "id": "ca77cffe-236b-4791-b18f-c44042b5c7e4",
      "metadata": {
        "id": "ca77cffe-236b-4791-b18f-c44042b5c7e4"
      },
      "source": [
        "# Create the Output Spreadsheet"
      ]
    },
    {
      "cell_type": "code",
      "source": [
        "wb = Workbook()\n",
        "\n",
        "# Setup the UI worksheet\n",
        "ws = wb.active\n",
        "ws.title = \"Oracle\"\n",
        "ws[\"A1\"] = \"Total Phrases:\"\n",
        "ws[\"B1\"] = '=COUNTIF(phrases!$A$1:$A$100000,\">0\")'\n",
        "\n",
        "ws[\"C1\"] = \"\"\"Press F9 (Recalculate) to choose a new set of phrases.\n",
        "\n",
        "If you type a number into a Keep cell, then that phrase will be kept\n",
        "when you randomize the phrases. Be careful not to copy the formula or you will\n",
        "get errors about 'circular references'.\n",
        "\n",
        "If you have long phrases, you may want to set column C text to wrap.\"\"\"\n",
        "\n",
        "ws[\"A4\"] = \"Roll\"\n",
        "ws[\"B4\"] = \"Keep\"\n",
        "ws[\"C4\"] = \"Phrase\"\n",
        "\n",
        "# formula to select the phrases\n",
        "num_phrases = 10\n",
        "first_row = 5\n",
        "last_row = first_row + num_phrases\n",
        "for row in range(first_row, last_row):\n",
        "  ws[f\"A{row}\"] = f\"=IF(B{row}>0, B{row}, RANDBETWEEN(1,$B$1))\"\n",
        "  ws[f\"C{row}\"] = f\"=VLOOKUP(A{row},phrases!$A$1:$B$100000,2,1)\"\n",
        "\n",
        "# add some formatting and styles\n",
        "ws.column_dimensions[\"C\"].width = 100\n",
        "\n",
        "bold_font = Font(bold=True)\n",
        "alignment = Alignment(wrap_text=True)\n",
        "\n",
        "headingRGB = \"D8E4BC\"\n",
        "headingFill = PatternFill(\n",
        "  start_color=headingRGB,\n",
        "  end_color=headingRGB,\n",
        "  fill_type='solid')\n",
        "\n",
        "ws[\"A1\"].alignment = alignment\n",
        "for cell in ws[\"C\"]: cell.alignment = alignment\n",
        "ws[\"A1\"].fill = headingFill\n",
        "ws[\"B1\"].fill = headingFill\n",
        "ws[\"C1\"].fill = headingFill\n",
        "ws[\"A1\"].font = bold_font\n",
        "ws[\"A4\"].font = bold_font\n",
        "ws[\"B4\"].font = bold_font\n",
        "ws[\"C1\"].font = bold_font\n",
        "ws[\"C4\"].font = bold_font\n",
        "\n",
        "# Write the phrases into a new worksheet\n",
        "wb.create_sheet(title=\"phrases\")\n",
        "\n",
        "phrases_sheet = wb[\"phrases\"]\n",
        "for i, phrase in enumerate(phrases):\n",
        "    phrases_sheet.append((i, phrase))\n",
        "\n",
        "# Save and download the workbook\n",
        "wb.save(output_file_name)\n",
        "files.download(output_file_name)"
      ],
      "metadata": {
        "colab": {
          "base_uri": "https://localhost:8080/",
          "height": 0
        },
        "id": "g3uj_Al0Twff",
        "outputId": "c6eb68e7-b733-47aa-eb6c-6bf5e37fdf7d"
      },
      "id": "g3uj_Al0Twff",
      "execution_count": 15,
      "outputs": [
        {
          "output_type": "display_data",
          "data": {
            "text/plain": [
              "<IPython.core.display.Javascript object>"
            ],
            "application/javascript": [
              "\n",
              "    async function download(id, filename, size) {\n",
              "      if (!google.colab.kernel.accessAllowed) {\n",
              "        return;\n",
              "      }\n",
              "      const div = document.createElement('div');\n",
              "      const label = document.createElement('label');\n",
              "      label.textContent = `Downloading \"${filename}\": `;\n",
              "      div.appendChild(label);\n",
              "      const progress = document.createElement('progress');\n",
              "      progress.max = size;\n",
              "      div.appendChild(progress);\n",
              "      document.body.appendChild(div);\n",
              "\n",
              "      const buffers = [];\n",
              "      let downloaded = 0;\n",
              "\n",
              "      const channel = await google.colab.kernel.comms.open(id);\n",
              "      // Send a message to notify the kernel that we're ready.\n",
              "      channel.send({})\n",
              "\n",
              "      for await (const message of channel.messages) {\n",
              "        // Send a message to notify the kernel that we're ready.\n",
              "        channel.send({})\n",
              "        if (message.buffers) {\n",
              "          for (const buffer of message.buffers) {\n",
              "            buffers.push(buffer);\n",
              "            downloaded += buffer.byteLength;\n",
              "            progress.value = downloaded;\n",
              "          }\n",
              "        }\n",
              "      }\n",
              "      const blob = new Blob(buffers, {type: 'application/binary'});\n",
              "      const a = document.createElement('a');\n",
              "      a.href = window.URL.createObjectURL(blob);\n",
              "      a.download = filename;\n",
              "      div.appendChild(a);\n",
              "      a.click();\n",
              "      div.remove();\n",
              "    }\n",
              "  "
            ]
          },
          "metadata": {}
        },
        {
          "output_type": "display_data",
          "data": {
            "text/plain": [
              "<IPython.core.display.Javascript object>"
            ],
            "application/javascript": [
              "download(\"download_bbe93558-581b-4b9b-b172-e2f796cf75a6\", \"oracle.xlsx\", 659492)"
            ]
          },
          "metadata": {}
        }
      ]
    }
  ],
  "metadata": {
    "kernelspec": {
      "display_name": "Python 3 (ipykernel)",
      "language": "python",
      "name": "python3"
    },
    "language_info": {
      "codemirror_mode": {
        "name": "ipython",
        "version": 3
      },
      "file_extension": ".py",
      "mimetype": "text/x-python",
      "name": "python",
      "nbconvert_exporter": "python",
      "pygments_lexer": "ipython3",
      "version": "3.9.12"
    },
    "colab": {
      "name": "book_chopper.ipynb",
      "provenance": []
    }
  },
  "nbformat": 4,
  "nbformat_minor": 5
}