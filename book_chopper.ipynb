{
  "cells": [
    {
      "cell_type": "markdown",
      "source": [
        "# Using this Notebook\n",
        "\n",
        "In the **User Configuration** section, you can set the file name for the spreadsheet. You can also select the chopping mode. Options are:\n",
        "\n",
        "*   sentences (default): Attempts to break the text into whole sentences. Tends to produce coherent text but can be confused by unusual characters and line breaks.\n",
        "*   line: breaks the input by lines without regard to punctuation or content.\n",
        "*   phrases: breaks the input into phrases of `min_words` to `max_words` in length.\n",
        "\n",
        "Once you have set the configuration options, run the notebook by selecting \"Runtime - Run All\" from the notebook menu.\n",
        "\n",
        "In the **File Upload** section, you will now be able to click the Choose Files button to upload your files. After processing is complete (different options take different amounts of time), the oracle file should download automatically.\n",
        "\n"
      ],
      "metadata": {
        "id": "WY-kd4fMZzGs"
      },
      "id": "WY-kd4fMZzGs"
    },
    {
      "cell_type": "markdown",
      "id": "fc42414c-931c-41a0-8de5-9115157ffe6a",
      "metadata": {
        "id": "fc42414c-931c-41a0-8de5-9115157ffe6a"
      },
      "source": [
        "# Imports"
      ]
    },
    {
      "cell_type": "code",
      "execution_count": null,
      "id": "d2693faa-b08e-4949-8fe5-574009f63b20",
      "metadata": {
        "id": "d2693faa-b08e-4949-8fe5-574009f63b20"
      },
      "outputs": [],
      "source": [
        "from glob import glob\n",
        "from openpyxl import Workbook\n",
        "from openpyxl.styles import Alignment, Font, Color, PatternFill\n",
        "from random import randint\n",
        "from google.colab import files"
      ]
    },
    {
      "cell_type": "markdown",
      "source": [
        "# User Configuration"
      ],
      "metadata": {
        "id": "EYCjq8hgbiZL"
      },
      "id": "EYCjq8hgbiZL"
    },
    {
      "cell_type": "code",
      "execution_count": null,
      "id": "555182e9-190a-4192-b958-13e6ec11cf37",
      "metadata": {
        "id": "555182e9-190a-4192-b958-13e6ec11cf37",
        "cellView": "form"
      },
      "outputs": [],
      "source": [
        "# {run: \"auto\"}\n",
        "\n",
        "output_file_name = \"oracle\" #@param {type:\"string\"}\n",
        "mode = \"sentences\" #@param [\"line\", \"phrases\", \"sentences\"] {type:\"string\"}\n",
        "min_words = 2 #@param {type:\"integer\"}\n",
        "max_words = 7 #@param {type:\"integer\"}"
      ]
    },
    {
      "cell_type": "markdown",
      "source": [
        "# File Upload"
      ],
      "metadata": {
        "id": "rZPcoR7Zd38h"
      },
      "id": "rZPcoR7Zd38h"
    },
    {
      "cell_type": "code",
      "execution_count": null,
      "id": "227bde95",
      "metadata": {
        "id": "227bde95"
      },
      "outputs": [],
      "source": [
        "input_files = files.upload()"
      ]
    },
    {
      "cell_type": "markdown",
      "source": [
        "# Implementation"
      ],
      "metadata": {
        "id": "1uWX1d3jZZEX"
      },
      "id": "1uWX1d3jZZEX"
    },
    {
      "cell_type": "code",
      "execution_count": null,
      "id": "bf4f5f2e-2e85-47ff-9e51-287ca3dd0929",
      "metadata": {
        "id": "bf4f5f2e-2e85-47ff-9e51-287ca3dd0929"
      },
      "outputs": [],
      "source": [
        "if mode == \"phrases\":\n",
        "  match_lines = False\n",
        "  word_split_token = \" \"\n",
        "  characters_to_replace_with_word_split_token = \",!?\\n\\r\\\\\""
      ]
    },
    {
      "cell_type": "code",
      "execution_count": null,
      "id": "942910f5-ce67-42c3-9e87-6db902bec8c3",
      "metadata": {
        "id": "942910f5-ce67-42c3-9e87-6db902bec8c3"
      },
      "outputs": [],
      "source": [
        "if mode == \"sentences\":\n",
        "  match_lines = False\n",
        "  word_split_token = \".\"\n",
        "  characters_to_replace_with_word_split_token = \"\\r\\n\\\\\""
      ]
    },
    {
      "cell_type": "code",
      "execution_count": null,
      "id": "3f4c8e8f-9ef3-4d37-81a4-078ad339dc7e",
      "metadata": {
        "id": "3f4c8e8f-9ef3-4d37-81a4-078ad339dc7e"
      },
      "outputs": [],
      "source": [
        "if mode == \"lines\":\n",
        "  match_lines = True\n",
        "  word_split_token = \".\"\n",
        "  characters_to_replace_with_word_split_token = \"\\n\\r\\\\\""
      ]
    },
    {
      "cell_type": "code",
      "source": [
        "min_phrase_length = 16\n",
        "output_file_name += \".xlsx\"\n",
        "\n",
        "if min_words < 2: \n",
        "  min_words = 2\n",
        "if max_words < min_words:\n",
        "  max_words = min_words"
      ],
      "metadata": {
        "id": "_oNJwf4FX4FR"
      },
      "id": "_oNJwf4FX4FR",
      "execution_count": null,
      "outputs": []
    },
    {
      "cell_type": "code",
      "execution_count": null,
      "id": "85558180-9f4d-4e70-a85a-ed3331853806",
      "metadata": {
        "id": "85558180-9f4d-4e70-a85a-ed3331853806"
      },
      "outputs": [],
      "source": [
        "def num_words(token, a=min_words, b=max_words):\n",
        "  if token == \".\":\n",
        "    return 1\n",
        "  else:\n",
        "    return randint(a, b) + randint(a, b)"
      ]
    },
    {
      "cell_type": "code",
      "execution_count": null,
      "id": "c90849d4-6d64-4e0f-94d7-0702a61b4961",
      "metadata": {
        "id": "c90849d4-6d64-4e0f-94d7-0702a61b4961"
      },
      "outputs": [],
      "source": [
        "def clean(phrase: str):\n",
        "  phrase = phrase.replace(\"â€\", \",\")\n",
        "  for char in characters_to_replace_with_word_split_token:\n",
        "    phrase = phrase.replace(char, word_split_token)\n",
        "  return phrase.strip()"
      ]
    },
    {
      "cell_type": "code",
      "execution_count": null,
      "id": "2328d9e4-ee08-4179-907b-7b18be0d20c3",
      "metadata": {
        "id": "2328d9e4-ee08-4179-907b-7b18be0d20c3"
      },
      "outputs": [],
      "source": [
        "def get_words(input_files:list, word_split_token:str):\n",
        "  words = []\n",
        "  for book in input_files.values():\n",
        "    words.extend(clean(str(book)).split(word_split_token))\n",
        "  return words"
      ]
    },
    {
      "cell_type": "code",
      "execution_count": null,
      "id": "f9cb6ce6-4625-42dd-b422-6dc6dc161d84",
      "metadata": {
        "id": "f9cb6ce6-4625-42dd-b422-6dc6dc161d84"
      },
      "outputs": [],
      "source": [
        "def get_phrases_random(input_files, word_split_token):\n",
        "  phrases = []\n",
        "  words = get_words(input_files, word_split_token)\n",
        "  while True:\n",
        "    try:\n",
        "      n = num_words(word_split_token)\n",
        "      phrase = [words.pop(0) for _ in range(n)]\n",
        "    except IndexError:\n",
        "      phrase = words\n",
        "      break\n",
        "    finally:\n",
        "      phrase = \" \".join(phrase).strip()\n",
        "      if len(phrase) >= min_phrase_length:\n",
        "        phrases.append(phrase)\n",
        "  return phrases"
      ]
    },
    {
      "cell_type": "code",
      "execution_count": null,
      "id": "e085a21e-317b-4ece-8381-edb9c1385836",
      "metadata": {
        "id": "e085a21e-317b-4ece-8381-edb9c1385836"
      },
      "outputs": [],
      "source": [
        "def get_phrases_lines(input_files):\n",
        "  lines = []\n",
        "  for book in input_files.values():\n",
        "    book = str(book)\n",
        "    for line in book:\n",
        "      line = clean(line)\n",
        "      if len(line) >= min_phrase_length:\n",
        "        lines.append(line)\n",
        "  return lines"
      ]
    },
    {
      "cell_type": "code",
      "execution_count": null,
      "id": "ad32b3b2-25dc-4d5a-ae76-a03df6516fbf",
      "metadata": {
        "id": "ad32b3b2-25dc-4d5a-ae76-a03df6516fbf"
      },
      "outputs": [],
      "source": [
        "def get_phrases(input_files, match_lines=False, word_split_token=\" \"):\n",
        "  if match_lines:\n",
        "    return get_phrases_lines(input_files)\n",
        "  else:\n",
        "    return get_phrases_random(input_files, word_split_token)"
      ]
    },
    {
      "cell_type": "code",
      "execution_count": null,
      "id": "562dc9d3-ce79-4e48-ba85-d3a1d99f2a01",
      "metadata": {
        "id": "562dc9d3-ce79-4e48-ba85-d3a1d99f2a01"
      },
      "outputs": [],
      "source": [
        "phrases = get_phrases(input_files, match_lines, word_split_token)"
      ]
    },
    {
      "cell_type": "markdown",
      "id": "ca77cffe-236b-4791-b18f-c44042b5c7e4",
      "metadata": {
        "id": "ca77cffe-236b-4791-b18f-c44042b5c7e4"
      },
      "source": [
        "# Create the Output Spreadsheet"
      ]
    },
    {
      "cell_type": "code",
      "source": [
        "wb = Workbook()\n",
        "\n",
        "# Setup the UI worksheet\n",
        "ws = wb.active\n",
        "ws.title = \"Oracle\"\n",
        "ws[\"A1\"] = \"Total Phrases:\"\n",
        "ws[\"B1\"] = '=COUNTIF(phrases!$A$1:$A$100000,\">0\")'\n",
        "\n",
        "ws[\"C1\"] = \"\"\"Press F9 (Recalculate) to choose a new set of phrases.\n",
        "\n",
        "If you type a number into a Keep cell, then that phrase will be kept\n",
        "when you randomize the phrases. Be careful not to copy the formula or you will\n",
        "get errors about 'circular references'.\n",
        "\n",
        "If you have long phrases, you may want to set column C text to wrap.\"\"\"\n",
        "\n",
        "ws[\"A4\"] = \"Roll\"\n",
        "ws[\"B4\"] = \"Keep\"\n",
        "ws[\"C4\"] = \"Phrase\"\n",
        "\n",
        "# formula to select the phrases\n",
        "num_phrases = 10\n",
        "first_row = 5\n",
        "last_row = first_row + num_phrases\n",
        "for row in range(first_row, last_row):\n",
        "  ws[f\"A{row}\"] = f\"=IF(B{row}>0, B{row}, RANDBETWEEN(1,$B$1))\"\n",
        "  ws[f\"C{row}\"] = f\"=VLOOKUP(A{row},phrases!$A$1:$B$100000,2,1)\"\n",
        "\n",
        "# add some formatting and styles\n",
        "ws.column_dimensions[\"C\"].width = 100\n",
        "\n",
        "bold_font = Font(bold=True)\n",
        "alignment = Alignment(wrap_text=True)\n",
        "\n",
        "headingRGB = \"D8E4BC\"\n",
        "headingFill = PatternFill(\n",
        "  start_color=headingRGB,\n",
        "  end_color=headingRGB,\n",
        "  fill_type='solid')\n",
        "\n",
        "ws[\"A1\"].alignment = alignment\n",
        "for cell in ws[\"C\"]: cell.alignment = alignment\n",
        "ws[\"A1\"].fill = headingFill\n",
        "ws[\"B1\"].fill = headingFill\n",
        "ws[\"C1\"].fill = headingFill\n",
        "ws[\"A1\"].font = bold_font\n",
        "ws[\"A4\"].font = bold_font\n",
        "ws[\"B4\"].font = bold_font\n",
        "ws[\"C1\"].font = bold_font\n",
        "ws[\"C4\"].font = bold_font\n",
        "\n",
        "# Write the phrases into a new worksheet\n",
        "wb.create_sheet(title=\"phrases\")\n",
        "\n",
        "phrases_sheet = wb[\"phrases\"]\n",
        "for i, phrase in enumerate(phrases):\n",
        "    phrases_sheet.append((i, phrase))\n",
        "\n",
        "# Save and download the workbook\n",
        "wb.save(output_file_name)\n",
        "files.download(output_file_name)"
      ],
      "metadata": {
        "id": "g3uj_Al0Twff"
      },
      "id": "g3uj_Al0Twff",
      "execution_count": null,
      "outputs": []
    }
  ],
  "metadata": {
    "kernelspec": {
      "display_name": "Python 3 (ipykernel)",
      "language": "python",
      "name": "python3"
    },
    "language_info": {
      "codemirror_mode": {
        "name": "ipython",
        "version": 3
      },
      "file_extension": ".py",
      "mimetype": "text/x-python",
      "name": "python",
      "nbconvert_exporter": "python",
      "pygments_lexer": "ipython3",
      "version": "3.9.12"
    },
    "colab": {
      "name": "book_chopper.ipynb",
      "provenance": []
    }
  },
  "nbformat": 4,
  "nbformat_minor": 5
}